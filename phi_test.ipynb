{
  "nbformat": 4,
  "nbformat_minor": 0,
  "metadata": {
    "colab": {
      "name": "phi_test.ipynb",
      "provenance": []
    },
    "kernelspec": {
      "display_name": "Python 3",
      "language": "python",
      "name": "python3"
    },
    "language_info": {
      "codemirror_mode": {
        "name": "ipython",
        "version": 3
      },
      "file_extension": ".py",
      "mimetype": "text/x-python",
      "name": "python",
      "nbconvert_exporter": "python",
      "pygments_lexer": "ipython3",
      "version": "3.7.6"
    }
  },
  "cells": [
    {
      "cell_type": "code",
      "metadata": {
        "colab_type": "code",
        "id": "0XGzJetTN-z2",
        "colab": {}
      },
      "source": [
        "!pip install pandas opencv-python Pillow"
      ],
      "execution_count": null,
      "outputs": []
    },
    {
      "cell_type": "code",
      "metadata": {
        "colab_type": "code",
        "id": "v42wu2UUVoBO",
        "colab": {}
      },
      "source": [
        "import ipywidgets as widgets\n",
        "from ipywidgets import interact, interact_manual\n",
        "import pandas as pd\n",
        "import numpy as np\n",
        "import glob\n",
        "import os\n",
        "from IPython.display import Image\n",
        "from PIL import Image as Im\n",
        "import cv2"
      ],
      "execution_count": 2,
      "outputs": []
    },
    {
      "cell_type": "code",
      "metadata": {
        "colab_type": "code",
        "id": "67xUkoE6Vvk6",
        "colab": {}
      },
      "source": [
        "files = glob.glob('phi_test/*.png')\n",
        "df = pd.DataFrame(columns=['fname','phi'])\n",
        "for i, f in enumerate (files):\n",
        "  phi = f.replace('.png','').split('_')[-1]\n",
        "  if phi != 'singleaxis':\n",
        "    df = df.append({'fname':f, 'phi': int(phi)}, ignore_index=True)"
      ],
      "execution_count": 3,
      "outputs": []
    },
    {
      "cell_type": "code",
      "metadata": {
        "id": "8Oys0gHCUUjp",
        "colab_type": "code",
        "colab": {}
      },
      "source": [
        "ref = cv2.imread(\"phi_test/60_30.png\")\n",
        "single_axis = cv2.imread('phi_test/60_singleaxis.png')\n",
        "print(f\"From the left: Dual-Axis,Single-Axis\")\n",
        "display(Im.fromarray(np.hstack([ref, single_axis])))"
      ],
      "execution_count": 4,
      "outputs": []
    },
    {
      "cell_type": "code",
      "metadata": {
        "colab_type": "code",
        "id": "UDS4iq_DtoCm",
        "colab": {}
      },
      "source": [
        "@interact\n",
        "def show_articles_more_than(phi=(6,30,1)):\n",
        "    im = df.loc[df['phi'] == phi]['fname'].values[0]\n",
        "    im_vs_ref = np.hstack([cv2.imread(im),ref])\n",
        "    print(f\"From the left: phi={phi} (Dual-Axis), phi=30 (Dual-Axis)\")\n",
        "    display(Im.fromarray(im_vs_ref))"
      ],
      "execution_count": null,
      "outputs": []
    }
  ]
}